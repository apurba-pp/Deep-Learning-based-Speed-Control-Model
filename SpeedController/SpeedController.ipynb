{
 "cells": [
  {
   "cell_type": "markdown",
   "source": [
    "## 0. Install Dependencies"
   ],
   "metadata": {}
  },
  {
   "cell_type": "code",
   "execution_count": 24,
   "source": [
    "!pip install tensorflow\r\n",
    "!pip install gym\r\n",
    "!pip install keras \r\n",
    "!pip install keras-rl2"
   ],
   "outputs": [
    {
     "output_type": "stream",
     "name": "stdout",
     "text": [
      "Requirement already satisfied: tensorflow in c:\\users\\apurba p. padhy\\documents\\python\\.venv\\lib\\site-packages (2.6.0)\n",
      "Requirement already satisfied: termcolor~=1.1.0 in c:\\users\\apurba p. padhy\\documents\\python\\.venv\\lib\\site-packages (from tensorflow) (1.1.0)\n",
      "Requirement already satisfied: astunparse~=1.6.3 in c:\\users\\apurba p. padhy\\documents\\python\\.venv\\lib\\site-packages (from tensorflow) (1.6.3)\n",
      "Requirement already satisfied: gast==0.4.0 in c:\\users\\apurba p. padhy\\documents\\python\\.venv\\lib\\site-packages (from tensorflow) (0.4.0)\n",
      "Requirement already satisfied: wheel~=0.35 in c:\\users\\apurba p. padhy\\documents\\python\\.venv\\lib\\site-packages (from tensorflow) (0.37.0)\n",
      "Requirement already satisfied: keras~=2.6 in c:\\users\\apurba p. padhy\\documents\\python\\.venv\\lib\\site-packages (from tensorflow) (2.6.0)\n",
      "Requirement already satisfied: keras-preprocessing~=1.1.2 in c:\\users\\apurba p. padhy\\documents\\python\\.venv\\lib\\site-packages (from tensorflow) (1.1.2)\n",
      "Requirement already satisfied: opt-einsum~=3.3.0 in c:\\users\\apurba p. padhy\\documents\\python\\.venv\\lib\\site-packages (from tensorflow) (3.3.0)\n",
      "Requirement already satisfied: wrapt~=1.12.1 in c:\\users\\apurba p. padhy\\documents\\python\\.venv\\lib\\site-packages (from tensorflow) (1.12.1)\n",
      "Requirement already satisfied: google-pasta~=0.2 in c:\\users\\apurba p. padhy\\documents\\python\\.venv\\lib\\site-packages (from tensorflow) (0.2.0)\n",
      "Requirement already satisfied: typing-extensions~=3.7.4 in c:\\users\\apurba p. padhy\\documents\\python\\.venv\\lib\\site-packages (from tensorflow) (3.7.4.3)\n",
      "Requirement already satisfied: h5py~=3.1.0 in c:\\users\\apurba p. padhy\\documents\\python\\.venv\\lib\\site-packages (from tensorflow) (3.1.0)\n",
      "Requirement already satisfied: grpcio<2.0,>=1.37.0 in c:\\users\\apurba p. padhy\\documents\\python\\.venv\\lib\\site-packages (from tensorflow) (1.39.0)\n",
      "Requirement already satisfied: protobuf>=3.9.2 in c:\\users\\apurba p. padhy\\documents\\python\\.venv\\lib\\site-packages (from tensorflow) (3.17.3)\n",
      "Requirement already satisfied: tensorflow-estimator~=2.6 in c:\\users\\apurba p. padhy\\documents\\python\\.venv\\lib\\site-packages (from tensorflow) (2.6.0)\n",
      "Requirement already satisfied: flatbuffers~=1.12.0 in c:\\users\\apurba p. padhy\\documents\\python\\.venv\\lib\\site-packages (from tensorflow) (1.12)\n",
      "Requirement already satisfied: clang~=5.0 in c:\\users\\apurba p. padhy\\documents\\python\\.venv\\lib\\site-packages (from tensorflow) (5.0)\n",
      "Requirement already satisfied: six~=1.15.0 in c:\\users\\apurba p. padhy\\documents\\python\\.venv\\lib\\site-packages (from tensorflow) (1.15.0)\n",
      "Requirement already satisfied: numpy~=1.19.2 in c:\\users\\apurba p. padhy\\documents\\python\\.venv\\lib\\site-packages (from tensorflow) (1.19.5)\n",
      "Requirement already satisfied: tensorboard~=2.6 in c:\\users\\apurba p. padhy\\documents\\python\\.venv\\lib\\site-packages (from tensorflow) (2.6.0)\n",
      "Requirement already satisfied: absl-py~=0.10 in c:\\users\\apurba p. padhy\\documents\\python\\.venv\\lib\\site-packages (from tensorflow) (0.13.0)\n",
      "Requirement already satisfied: markdown>=2.6.8 in c:\\users\\apurba p. padhy\\documents\\python\\.venv\\lib\\site-packages (from tensorboard~=2.6->tensorflow) (3.3.4)\n",
      "Requirement already satisfied: werkzeug>=0.11.15 in c:\\users\\apurba p. padhy\\documents\\python\\.venv\\lib\\site-packages (from tensorboard~=2.6->tensorflow) (2.0.1)\n",
      "Requirement already satisfied: google-auth<2,>=1.6.3 in c:\\users\\apurba p. padhy\\documents\\python\\.venv\\lib\\site-packages (from tensorboard~=2.6->tensorflow) (1.35.0)\n",
      "Requirement already satisfied: tensorboard-data-server<0.7.0,>=0.6.0 in c:\\users\\apurba p. padhy\\documents\\python\\.venv\\lib\\site-packages (from tensorboard~=2.6->tensorflow) (0.6.1)\n",
      "Requirement already satisfied: setuptools>=41.0.0 in c:\\users\\apurba p. padhy\\documents\\python\\.venv\\lib\\site-packages (from tensorboard~=2.6->tensorflow) (49.2.1)\n",
      "Requirement already satisfied: requests<3,>=2.21.0 in c:\\users\\apurba p. padhy\\documents\\python\\.venv\\lib\\site-packages (from tensorboard~=2.6->tensorflow) (2.26.0)\n",
      "Requirement already satisfied: tensorboard-plugin-wit>=1.6.0 in c:\\users\\apurba p. padhy\\documents\\python\\.venv\\lib\\site-packages (from tensorboard~=2.6->tensorflow) (1.8.0)\n",
      "Requirement already satisfied: google-auth-oauthlib<0.5,>=0.4.1 in c:\\users\\apurba p. padhy\\documents\\python\\.venv\\lib\\site-packages (from tensorboard~=2.6->tensorflow) (0.4.5)\n",
      "Requirement already satisfied: cachetools<5.0,>=2.0.0 in c:\\users\\apurba p. padhy\\documents\\python\\.venv\\lib\\site-packages (from google-auth<2,>=1.6.3->tensorboard~=2.6->tensorflow) (4.2.2)\n",
      "Requirement already satisfied: pyasn1-modules>=0.2.1 in c:\\users\\apurba p. padhy\\documents\\python\\.venv\\lib\\site-packages (from google-auth<2,>=1.6.3->tensorboard~=2.6->tensorflow) (0.2.8)\n",
      "Requirement already satisfied: rsa<5,>=3.1.4 in c:\\users\\apurba p. padhy\\documents\\python\\.venv\\lib\\site-packages (from google-auth<2,>=1.6.3->tensorboard~=2.6->tensorflow) (4.7.2)\n",
      "Requirement already satisfied: requests-oauthlib>=0.7.0 in c:\\users\\apurba p. padhy\\documents\\python\\.venv\\lib\\site-packages (from google-auth-oauthlib<0.5,>=0.4.1->tensorboard~=2.6->tensorflow) (1.3.0)\n",
      "Requirement already satisfied: pyasn1<0.5.0,>=0.4.6 in c:\\users\\apurba p. padhy\\documents\\python\\.venv\\lib\\site-packages (from pyasn1-modules>=0.2.1->google-auth<2,>=1.6.3->tensorboard~=2.6->tensorflow) (0.4.8)\n",
      "Requirement already satisfied: certifi>=2017.4.17 in c:\\users\\apurba p. padhy\\documents\\python\\.venv\\lib\\site-packages (from requests<3,>=2.21.0->tensorboard~=2.6->tensorflow) (2021.5.30)\n",
      "Requirement already satisfied: idna<4,>=2.5 in c:\\users\\apurba p. padhy\\documents\\python\\.venv\\lib\\site-packages (from requests<3,>=2.21.0->tensorboard~=2.6->tensorflow) (3.2)\n",
      "Requirement already satisfied: urllib3<1.27,>=1.21.1 in c:\\users\\apurba p. padhy\\documents\\python\\.venv\\lib\\site-packages (from requests<3,>=2.21.0->tensorboard~=2.6->tensorflow) (1.26.6)\n",
      "Requirement already satisfied: charset-normalizer~=2.0.0 in c:\\users\\apurba p. padhy\\documents\\python\\.venv\\lib\\site-packages (from requests<3,>=2.21.0->tensorboard~=2.6->tensorflow) (2.0.4)\n",
      "Requirement already satisfied: oauthlib>=3.0.0 in c:\\users\\apurba p. padhy\\documents\\python\\.venv\\lib\\site-packages (from requests-oauthlib>=0.7.0->google-auth-oauthlib<0.5,>=0.4.1->tensorboard~=2.6->tensorflow) (3.1.1)\n",
      "Requirement already satisfied: gym in c:\\users\\apurba p. padhy\\documents\\python\\.venv\\lib\\site-packages (0.19.0)\n",
      "Requirement already satisfied: cloudpickle<1.7.0,>=1.2.0 in c:\\users\\apurba p. padhy\\documents\\python\\.venv\\lib\\site-packages (from gym) (1.6.0)\n",
      "Requirement already satisfied: numpy>=1.18.0 in c:\\users\\apurba p. padhy\\documents\\python\\.venv\\lib\\site-packages (from gym) (1.19.5)\n",
      "Requirement already satisfied: keras in c:\\users\\apurba p. padhy\\documents\\python\\.venv\\lib\\site-packages (2.6.0)\n",
      "Requirement already satisfied: keras-rl2 in c:\\users\\apurba p. padhy\\documents\\python\\.venv\\lib\\site-packages (1.0.5)\n",
      "Requirement already satisfied: tensorflow in c:\\users\\apurba p. padhy\\documents\\python\\.venv\\lib\\site-packages (from keras-rl2) (2.6.0)\n",
      "Requirement already satisfied: six~=1.15.0 in c:\\users\\apurba p. padhy\\documents\\python\\.venv\\lib\\site-packages (from tensorflow->keras-rl2) (1.15.0)\n",
      "Requirement already satisfied: termcolor~=1.1.0 in c:\\users\\apurba p. padhy\\documents\\python\\.venv\\lib\\site-packages (from tensorflow->keras-rl2) (1.1.0)\n",
      "Requirement already satisfied: tensorboard~=2.6 in c:\\users\\apurba p. padhy\\documents\\python\\.venv\\lib\\site-packages (from tensorflow->keras-rl2) (2.6.0)\n",
      "Requirement already satisfied: google-pasta~=0.2 in c:\\users\\apurba p. padhy\\documents\\python\\.venv\\lib\\site-packages (from tensorflow->keras-rl2) (0.2.0)\n",
      "Requirement already satisfied: keras-preprocessing~=1.1.2 in c:\\users\\apurba p. padhy\\documents\\python\\.venv\\lib\\site-packages (from tensorflow->keras-rl2) (1.1.2)\n",
      "Requirement already satisfied: keras~=2.6 in c:\\users\\apurba p. padhy\\documents\\python\\.venv\\lib\\site-packages (from tensorflow->keras-rl2) (2.6.0)\n",
      "Requirement already satisfied: typing-extensions~=3.7.4 in c:\\users\\apurba p. padhy\\documents\\python\\.venv\\lib\\site-packages (from tensorflow->keras-rl2) (3.7.4.3)\n",
      "Requirement already satisfied: wheel~=0.35 in c:\\users\\apurba p. padhy\\documents\\python\\.venv\\lib\\site-packages (from tensorflow->keras-rl2) (0.37.0)\n",
      "Requirement already satisfied: gast==0.4.0 in c:\\users\\apurba p. padhy\\documents\\python\\.venv\\lib\\site-packages (from tensorflow->keras-rl2) (0.4.0)\n",
      "Requirement already satisfied: astunparse~=1.6.3 in c:\\users\\apurba p. padhy\\documents\\python\\.venv\\lib\\site-packages (from tensorflow->keras-rl2) (1.6.3)\n",
      "Requirement already satisfied: grpcio<2.0,>=1.37.0 in c:\\users\\apurba p. padhy\\documents\\python\\.venv\\lib\\site-packages (from tensorflow->keras-rl2) (1.39.0)\n",
      "Requirement already satisfied: absl-py~=0.10 in c:\\users\\apurba p. padhy\\documents\\python\\.venv\\lib\\site-packages (from tensorflow->keras-rl2) (0.13.0)\n",
      "Requirement already satisfied: wrapt~=1.12.1 in c:\\users\\apurba p. padhy\\documents\\python\\.venv\\lib\\site-packages (from tensorflow->keras-rl2) (1.12.1)\n",
      "Requirement already satisfied: flatbuffers~=1.12.0 in c:\\users\\apurba p. padhy\\documents\\python\\.venv\\lib\\site-packages (from tensorflow->keras-rl2) (1.12)\n",
      "Requirement already satisfied: tensorflow-estimator~=2.6 in c:\\users\\apurba p. padhy\\documents\\python\\.venv\\lib\\site-packages (from tensorflow->keras-rl2) (2.6.0)\n",
      "Requirement already satisfied: protobuf>=3.9.2 in c:\\users\\apurba p. padhy\\documents\\python\\.venv\\lib\\site-packages (from tensorflow->keras-rl2) (3.17.3)\n",
      "Requirement already satisfied: clang~=5.0 in c:\\users\\apurba p. padhy\\documents\\python\\.venv\\lib\\site-packages (from tensorflow->keras-rl2) (5.0)\n",
      "Requirement already satisfied: opt-einsum~=3.3.0 in c:\\users\\apurba p. padhy\\documents\\python\\.venv\\lib\\site-packages (from tensorflow->keras-rl2) (3.3.0)\n",
      "Requirement already satisfied: numpy~=1.19.2 in c:\\users\\apurba p. padhy\\documents\\python\\.venv\\lib\\site-packages (from tensorflow->keras-rl2) (1.19.5)\n",
      "Requirement already satisfied: h5py~=3.1.0 in c:\\users\\apurba p. padhy\\documents\\python\\.venv\\lib\\site-packages (from tensorflow->keras-rl2) (3.1.0)\n",
      "Requirement already satisfied: google-auth-oauthlib<0.5,>=0.4.1 in c:\\users\\apurba p. padhy\\documents\\python\\.venv\\lib\\site-packages (from tensorboard~=2.6->tensorflow->keras-rl2) (0.4.5)\n",
      "Requirement already satisfied: werkzeug>=0.11.15 in c:\\users\\apurba p. padhy\\documents\\python\\.venv\\lib\\site-packages (from tensorboard~=2.6->tensorflow->keras-rl2) (2.0.1)\n",
      "Requirement already satisfied: tensorboard-data-server<0.7.0,>=0.6.0 in c:\\users\\apurba p. padhy\\documents\\python\\.venv\\lib\\site-packages (from tensorboard~=2.6->tensorflow->keras-rl2) (0.6.1)\n",
      "Requirement already satisfied: setuptools>=41.0.0 in c:\\users\\apurba p. padhy\\documents\\python\\.venv\\lib\\site-packages (from tensorboard~=2.6->tensorflow->keras-rl2) (49.2.1)\n",
      "Requirement already satisfied: google-auth<2,>=1.6.3 in c:\\users\\apurba p. padhy\\documents\\python\\.venv\\lib\\site-packages (from tensorboard~=2.6->tensorflow->keras-rl2) (1.35.0)\n",
      "Requirement already satisfied: requests<3,>=2.21.0 in c:\\users\\apurba p. padhy\\documents\\python\\.venv\\lib\\site-packages (from tensorboard~=2.6->tensorflow->keras-rl2) (2.26.0)\n",
      "Requirement already satisfied: tensorboard-plugin-wit>=1.6.0 in c:\\users\\apurba p. padhy\\documents\\python\\.venv\\lib\\site-packages (from tensorboard~=2.6->tensorflow->keras-rl2) (1.8.0)\n",
      "Requirement already satisfied: markdown>=2.6.8 in c:\\users\\apurba p. padhy\\documents\\python\\.venv\\lib\\site-packages (from tensorboard~=2.6->tensorflow->keras-rl2) (3.3.4)\n",
      "Requirement already satisfied: pyasn1-modules>=0.2.1 in c:\\users\\apurba p. padhy\\documents\\python\\.venv\\lib\\site-packages (from google-auth<2,>=1.6.3->tensorboard~=2.6->tensorflow->keras-rl2) (0.2.8)\n",
      "Requirement already satisfied: cachetools<5.0,>=2.0.0 in c:\\users\\apurba p. padhy\\documents\\python\\.venv\\lib\\site-packages (from google-auth<2,>=1.6.3->tensorboard~=2.6->tensorflow->keras-rl2) (4.2.2)\n",
      "Requirement already satisfied: rsa<5,>=3.1.4 in c:\\users\\apurba p. padhy\\documents\\python\\.venv\\lib\\site-packages (from google-auth<2,>=1.6.3->tensorboard~=2.6->tensorflow->keras-rl2) (4.7.2)\n",
      "Requirement already satisfied: requests-oauthlib>=0.7.0 in c:\\users\\apurba p. padhy\\documents\\python\\.venv\\lib\\site-packages (from google-auth-oauthlib<0.5,>=0.4.1->tensorboard~=2.6->tensorflow->keras-rl2) (1.3.0)\n",
      "Requirement already satisfied: pyasn1<0.5.0,>=0.4.6 in c:\\users\\apurba p. padhy\\documents\\python\\.venv\\lib\\site-packages (from pyasn1-modules>=0.2.1->google-auth<2,>=1.6.3->tensorboard~=2.6->tensorflow->keras-rl2) (0.4.8)\n",
      "Requirement already satisfied: idna<4,>=2.5 in c:\\users\\apurba p. padhy\\documents\\python\\.venv\\lib\\site-packages (from requests<3,>=2.21.0->tensorboard~=2.6->tensorflow->keras-rl2) (3.2)\n",
      "Requirement already satisfied: urllib3<1.27,>=1.21.1 in c:\\users\\apurba p. padhy\\documents\\python\\.venv\\lib\\site-packages (from requests<3,>=2.21.0->tensorboard~=2.6->tensorflow->keras-rl2) (1.26.6)\n",
      "Requirement already satisfied: certifi>=2017.4.17 in c:\\users\\apurba p. padhy\\documents\\python\\.venv\\lib\\site-packages (from requests<3,>=2.21.0->tensorboard~=2.6->tensorflow->keras-rl2) (2021.5.30)\n",
      "Requirement already satisfied: charset-normalizer~=2.0.0 in c:\\users\\apurba p. padhy\\documents\\python\\.venv\\lib\\site-packages (from requests<3,>=2.21.0->tensorboard~=2.6->tensorflow->keras-rl2) (2.0.4)\n",
      "Requirement already satisfied: oauthlib>=3.0.0 in c:\\users\\apurba p. padhy\\documents\\python\\.venv\\lib\\site-packages (from requests-oauthlib>=0.7.0->google-auth-oauthlib<0.5,>=0.4.1->tensorboard~=2.6->tensorflow->keras-rl2) (3.1.1)\n"
     ]
    }
   ],
   "metadata": {}
  },
  {
   "cell_type": "markdown",
   "source": [
    "## 1. Test Random Environment with OpernAI Gym"
   ],
   "metadata": {}
  },
  {
   "cell_type": "code",
   "execution_count": 25,
   "source": [
    "from gym import Env\r\n",
    "from gym.spaces import Discrete, Box\r\n",
    "import numpy as np\r\n",
    "import random"
   ],
   "outputs": [],
   "metadata": {}
  },
  {
   "cell_type": "code",
   "execution_count": 26,
   "source": [
    "class SpeedControllerEnv(Env):\r\n",
    "    def __init__(self):\r\n",
    "        # Actions we can take, down the speed, stay, up the speed\r\n",
    "        self.action_space = Discrete(3)\r\n",
    "        # Speed array\r\n",
    "        self.observation_space = Box(low=np.array([0]), high=np.array([120]))\r\n",
    "        # Set start temp\r\n",
    "        self.state = 60 + random.randint(-10,10)\r\n",
    "        # Set acceleration length\r\n",
    "        self.acceleration_length = 60\r\n",
    "        \r\n",
    "    def step(self, action):\r\n",
    "        # Apply action\r\n",
    "        # 0 -1 = -1 speed\r\n",
    "        # 1 -1 = 0 \r\n",
    "        # 2 -1 = 1 speed \r\n",
    "        self.state += action -1 \r\n",
    "        # Reduce acceleration length by 1 second\r\n",
    "        self.acceleration_length -= 1 \r\n",
    "        \r\n",
    "        # Calculate reward\r\n",
    "        if self.state >=50 and self.state <=70: \r\n",
    "            if self.state>=55 and self.state<=65:\r\n",
    "                reward =2\r\n",
    "            else:\r\n",
    "                reward=-1\r\n",
    "        else: \r\n",
    "            reward = -1 \r\n",
    "        \r\n",
    "        # Check if speed is done\r\n",
    "        if self.acceleration_length <= 0: \r\n",
    "            done = True\r\n",
    "        else:\r\n",
    "            done = False\r\n",
    "        \r\n",
    "        # Apply speed noise\r\n",
    "        #self.state += random.randint(-1,1)\r\n",
    "        # Set placeholder for info\r\n",
    "        info = {}\r\n",
    "        \r\n",
    "        # Return step information\r\n",
    "        return self.state, reward, done, info\r\n",
    "\r\n",
    "    def render(self):\r\n",
    "        # Implement viz\r\n",
    "        pass\r\n",
    "    \r\n",
    "    def reset(self):\r\n",
    "        # Reset speed\r\n",
    "        self.state = 60 + random.randint(-10,10)\r\n",
    "        # Reset acceleration time\r\n",
    "        self.acceleration_length = 60 \r\n",
    "        return self.state"
   ],
   "outputs": [],
   "metadata": {}
  },
  {
   "cell_type": "code",
   "execution_count": 27,
   "source": [
    "env = SpeedControllerEnv()"
   ],
   "outputs": [
    {
     "output_type": "stream",
     "name": "stderr",
     "text": [
      "c:\\Users\\Apurba P. Padhy\\Documents\\Python\\.venv\\lib\\site-packages\\gym\\logger.py:34: UserWarning: \u001b[33mWARN: Box bound precision lowered by casting to float32\u001b[0m\n",
      "  warnings.warn(colorize(\"%s: %s\" % (\"WARN\", msg % args), \"yellow\"))\n"
     ]
    }
   ],
   "metadata": {}
  },
  {
   "cell_type": "code",
   "execution_count": 28,
   "source": [
    "episodes = 10\r\n",
    "for episode in range(1, episodes+1):\r\n",
    "    state = env.reset()\r\n",
    "    done = False\r\n",
    "    score = 0 \r\n",
    "    \r\n",
    "    while not done:\r\n",
    "        #env.render()\r\n",
    "        action = env.action_space.sample()\r\n",
    "        n_state, reward, done, info = env.step(action)\r\n",
    "        score+=reward\r\n",
    "    print('Episode:{} Score:{}'.format(episode, score))\r\n"
   ],
   "outputs": [
    {
     "output_type": "stream",
     "name": "stdout",
     "text": [
      "Episode:1 Score:99\n",
      "Episode:2 Score:72\n",
      "Episode:3 Score:105\n",
      "Episode:4 Score:-60\n",
      "Episode:5 Score:-30\n",
      "Episode:6 Score:42\n",
      "Episode:7 Score:12\n",
      "Episode:8 Score:84\n",
      "Episode:9 Score:93\n",
      "Episode:10 Score:51\n"
     ]
    }
   ],
   "metadata": {}
  },
  {
   "cell_type": "markdown",
   "source": [
    "## 2. Create a Deep Learning Model with Keras"
   ],
   "metadata": {}
  },
  {
   "cell_type": "code",
   "execution_count": 29,
   "source": [
    "import numpy as np\r\n",
    "import tensorflow\r\n",
    "from tensorflow.keras.models import Sequential\r\n",
    "from tensorflow.keras.layers import Dense, Flatten\r\n",
    "from tensorflow.keras.optimizers import Adam"
   ],
   "outputs": [],
   "metadata": {}
  },
  {
   "cell_type": "code",
   "execution_count": 30,
   "source": [
    "states = env.observation_space.shape\r\n",
    "actions = env.action_space.n"
   ],
   "outputs": [],
   "metadata": {}
  },
  {
   "cell_type": "code",
   "execution_count": 31,
   "source": [
    "\r\n",
    "def build_model(states, actions):\r\n",
    "    model = Sequential()    \r\n",
    "    model.add(Dense(24, activation='relu', input_shape=states))\r\n",
    "    model.add(Dense(24, activation='relu'))\r\n",
    "    model.add(Dense(actions, activation='linear'))\r\n",
    "    return model\r\n"
   ],
   "outputs": [],
   "metadata": {}
  },
  {
   "cell_type": "code",
   "execution_count": 32,
   "source": [
    "del model"
   ],
   "outputs": [],
   "metadata": {}
  },
  {
   "cell_type": "code",
   "execution_count": 33,
   "source": [
    "model = build_model(states, actions)"
   ],
   "outputs": [],
   "metadata": {}
  },
  {
   "cell_type": "code",
   "execution_count": 34,
   "source": [
    "model.summary()"
   ],
   "outputs": [
    {
     "output_type": "stream",
     "name": "stdout",
     "text": [
      "Model: \"sequential_2\"\n",
      "_________________________________________________________________\n",
      "Layer (type)                 Output Shape              Param #   \n",
      "=================================================================\n",
      "dense_6 (Dense)              (None, 24)                48        \n",
      "_________________________________________________________________\n",
      "dense_7 (Dense)              (None, 24)                600       \n",
      "_________________________________________________________________\n",
      "dense_8 (Dense)              (None, 3)                 75        \n",
      "=================================================================\n",
      "Total params: 723\n",
      "Trainable params: 723\n",
      "Non-trainable params: 0\n",
      "_________________________________________________________________\n"
     ]
    }
   ],
   "metadata": {}
  },
  {
   "cell_type": "markdown",
   "source": [
    "## 3. Build Agent with Keras RL"
   ],
   "metadata": {}
  },
  {
   "cell_type": "code",
   "execution_count": 35,
   "source": [
    "from rl.agents import DQNAgent\r\n",
    "from rl.policy import BoltzmannQPolicy\r\n",
    "from rl.memory import SequentialMemory"
   ],
   "outputs": [],
   "metadata": {}
  },
  {
   "cell_type": "code",
   "execution_count": 36,
   "source": [
    "\r\n",
    "def build_agent(model, actions):\r\n",
    "    policy = BoltzmannQPolicy()\r\n",
    "    memory = SequentialMemory(limit=50000, window_length=1)\r\n",
    "    dqn = DQNAgent(model=model, memory=memory, policy=policy, \r\n",
    "                  nb_actions=actions, nb_steps_warmup=10, target_model_update=1e-2)\r\n",
    "    return dqn\r\n"
   ],
   "outputs": [],
   "metadata": {}
  },
  {
   "cell_type": "code",
   "execution_count": 37,
   "source": [
    "dqn = build_agent(model, actions)\r\n",
    "dqn.compile(Adam(learning_rate=1e-3), metrics=['mae'])\r\n",
    "dqn.fit(env, nb_steps=50000, visualize=False, verbose=1)"
   ],
   "outputs": [
    {
     "output_type": "stream",
     "name": "stdout",
     "text": [
      "Training for 50000 steps ...\n",
      "Interval 1 (0 steps performed)\n",
      "10000/10000 [==============================] - 95s 10ms/step - reward: -0.2917\n",
      "166 episodes - episode_reward: -17.837 [-60.000, 120.000] - loss: 2.097 - mae: 9.882 - mean_q: -5.772\n",
      "\n",
      "Interval 2 (10000 steps performed)\n",
      "10000/10000 [==============================] - 95s 9ms/step - reward: 1.2287\n",
      "167 episodes - episode_reward: 73.599 [-57.000, 120.000] - loss: 12.625 - mae: 22.337 - mean_q: 33.157\n",
      "\n",
      "Interval 3 (20000 steps performed)\n",
      "10000/10000 [==============================] - 95s 10ms/step - reward: 1.4423\n",
      "167 episodes - episode_reward: 86.605 [-45.000, 120.000] - loss: 21.531 - mae: 35.058 - mean_q: 52.057\n",
      "\n",
      "Interval 4 (30000 steps performed)\n",
      "10000/10000 [==============================] - 94s 9ms/step - reward: 1.4663\n",
      "166 episodes - episode_reward: 88.048 [-39.000, 120.000] - loss: 27.918 - mae: 40.820 - mean_q: 60.613\n",
      "\n",
      "Interval 5 (40000 steps performed)\n",
      "10000/10000 [==============================] - 96s 10ms/step - reward: 1.4735\n",
      "done, took 475.432 seconds\n"
     ]
    },
    {
     "output_type": "execute_result",
     "data": {
      "text/plain": [
       "<keras.callbacks.History at 0x21b0b19ab20>"
      ]
     },
     "metadata": {},
     "execution_count": 37
    }
   ],
   "metadata": {}
  },
  {
   "cell_type": "code",
   "execution_count": 44,
   "source": [
    "scores= dqn.test(env, nb_episodes=20, visualize=False)"
   ],
   "outputs": [
    {
     "output_type": "stream",
     "name": "stdout",
     "text": [
      "Testing for 20 episodes ...\n",
      "Episode 1: reward: 111.000, steps: 60\n",
      "Episode 2: reward: 114.000, steps: 60\n",
      "Episode 3: reward: 111.000, steps: 60\n",
      "Episode 4: reward: 120.000, steps: 60\n",
      "Episode 5: reward: 120.000, steps: 60\n",
      "Episode 6: reward: 120.000, steps: 60\n",
      "Episode 7: reward: 120.000, steps: 60\n",
      "Episode 8: reward: 120.000, steps: 60\n",
      "Episode 9: reward: 117.000, steps: 60\n",
      "Episode 10: reward: 120.000, steps: 60\n",
      "Episode 11: reward: 111.000, steps: 60\n",
      "Episode 12: reward: 114.000, steps: 60\n",
      "Episode 13: reward: 120.000, steps: 60\n",
      "Episode 14: reward: 120.000, steps: 60\n",
      "Episode 15: reward: 120.000, steps: 60\n",
      "Episode 16: reward: 108.000, steps: 60\n",
      "Episode 17: reward: 117.000, steps: 60\n",
      "Episode 18: reward: 114.000, steps: 60\n",
      "Episode 19: reward: 120.000, steps: 60\n",
      "Episode 20: reward: 120.000, steps: 60\n"
     ]
    }
   ],
   "metadata": {}
  },
  {
   "cell_type": "markdown",
   "source": [
    "## 4. Reloading Agent from Memory"
   ],
   "metadata": {}
  },
  {
   "cell_type": "code",
   "execution_count": 42,
   "source": [
    "dqn.save_weights('SpeedController_weights.h5f', overwrite=True)"
   ],
   "outputs": [],
   "metadata": {}
  }
 ],
 "metadata": {
  "orig_nbformat": 4,
  "language_info": {
   "name": "python",
   "version": "3.9.6",
   "mimetype": "text/x-python",
   "codemirror_mode": {
    "name": "ipython",
    "version": 3
   },
   "pygments_lexer": "ipython3",
   "nbconvert_exporter": "python",
   "file_extension": ".py"
  },
  "kernelspec": {
   "name": "python3",
   "display_name": "Python 3.9.6 64-bit ('.venv': venv)"
  },
  "interpreter": {
   "hash": "a5851cf43e89c10f99519bfaee310a2ad64a656bae5236c7ec6f3ff5135620e5"
  }
 },
 "nbformat": 4,
 "nbformat_minor": 2
}